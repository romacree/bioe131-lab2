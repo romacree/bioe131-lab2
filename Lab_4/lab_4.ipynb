{
 "cells": [
  {
   "cell_type": "code",
   "execution_count": 29,
   "metadata": {},
   "outputs": [],
   "source": [
    "from Bio import Entrez\n",
    "from Bio import SeqIO\n",
    "\n",
    "Entrez.email = 'romacree@berkeley.edu'\n",
    "\n",
    "glycolysis = ['Escherichia coli[ORGN] EC 5.1.3.3', 'Escherichia coli[ORGN] EC 3.2.1.86', 'Escherichia coli[ORGN] EC 5.1.3.15'\n",
    "           , 'Escherichia coli[ORGN] EC 4.1.2.13', 'Drosophila[ORGN] EC 5.1.3.3',\n",
    "           'Drosophila[ORGN] EC 3.2.1.86', 'Drosophila[ORGN] EC 5.1.3.15', \n",
    "           'Drosophila[ORGN] EC 4.1.2.13', 'Homo sapiens[ORGN] EC 5.1.3.3', 'Homo sapiens[ORGN] EC 3.2.1.86',\n",
    "           'Homo sapiens[ORGN] EC 5.1.3.15', 'Homo sapiens[ORGN] EC 4.1.2.13']\n",
    "\n",
    "ids = []\n",
    "\n",
    "for enzyme in glycolysis:\n",
    "    handle = Entrez.esearch(db = 'protein', term = enzyme, sort = 'relevance', idtype = 'acc')\n",
    "    results = Entrez.read(handle)['IdList']\n",
    "    if results:\n",
    "        ids.append(results[0])\n",
    "\n",
    "accessions = []\n",
    "for i in ids:\n",
    "    record = Entrez.efetch(db = 'nucleotide', id = i, rettype = 'gb', retmode = 'text')\n",
    "    seq = SeqIO.read(record,'genbank')\n",
    "    accessions.append(seq.annotations['db_source'])\n",
    "    \n",
    "accessionsfinal=[]\n",
    "for i in accessions:\n",
    "    i = i.split()\n",
    "    accessionsfinal.append(i[-1])\n",
    "\n",
    "for accession in accessionsfinal:\n",
    "    record = Entrez.efetch(db = 'nucleotide', id = accession, rettype = 'gb', retmode = 'text')\n",
    "    seq = SeqIO.read(record,'genbank')\n",
    "    c.execute(\"\"\"INSERT INTO genes\n",
    "                         VALUES (?,\n",
    "                                 ?,\n",
    "                                 ?,\n",
    "                                 ?);\"\"\",\n",
    "             (seq.id, seq.name, seq.description, str(seq.seq)))"
   ]
  },
  {
   "cell_type": "code",
   "execution_count": 30,
   "metadata": {},
   "outputs": [],
   "source": [
    "pentphos = ['e coli[ORGN] EC 3.1.3.11', 'e coli[ORGN] EC 5.3.1.1', 'e coli[ORGN] EC 3.2.1.86',\n",
    "            'e coli[ORGN] EC 2.7.1.90', 'Drosophila[ORGN] EC 3.1.3.11',\n",
    "            'Drosophila[ORGN] EC 5.3.1.1','Drosophila[ORGN] EC 3.2.1.86',\n",
    "            'Drosophila[ORGN] EC 2.7.1.90', 'Homo sapiens[ORGN] EC 3.1.3.11', 'Homo sapiens[ORGN] EC 5.3.1.1',\n",
    "            'Homo sapiens[ORGN] EC 3.2.1.86',\n",
    "            'Homo sapiens[ORGN] EC 2.7.1.90']\n",
    "\n",
    "ids = []\n",
    "\n",
    "for enzyme in pentphos:\n",
    "    handle = Entrez.esearch(db = 'protein', term = enzyme, sort = 'relevance', idtype = 'acc')\n",
    "    results = Entrez.read(handle)['IdList']\n",
    "    if results:\n",
    "        ids.append(results[0])\n",
    "\n",
    "accessions = []\n",
    "for i in ids:\n",
    "    record = Entrez.efetch(db = 'nucleotide', id = i, rettype = 'gb', retmode = 'text')\n",
    "    seq = SeqIO.read(record,'genbank')\n",
    "    accessions.append(seq.annotations['db_source'])\n",
    "\n",
    "for i in accessions:\n",
    "    i = i.split()\n",
    "    accessionsfinal.append(i[-1])\n",
    "\n",
    "accessionsfinal = []\n",
    "for accession in accessionsfinal:\n",
    "    record = Entrez.efetch(db = 'nucleotide', id = accession, rettype = 'gb', retmode = 'text')\n",
    "    seq = SeqIO.read(record,'genbank')\n",
    "    c.execute(\"\"\"INSERT INTO genes\n",
    "                         VALUES (?,\n",
    "                                 ?,\n",
    "                                 ?,\n",
    "                                 ?);\"\"\",\n",
    "             (seq.id, seq.name, seq.description, str(seq.seq)))"
   ]
  },
  {
   "cell_type": "code",
   "execution_count": 27,
   "metadata": {},
   "outputs": [
    {
     "data": {
      "text/plain": [
       "<sqlite3.Cursor at 0x18ca9cc7d50>"
      ]
     },
     "execution_count": 27,
     "metadata": {},
     "output_type": "execute_result"
    }
   ],
   "source": [
    "import sqlite3\n",
    "conn = sqlite3.connect('data.db')\n",
    "c = conn.cursor()\n",
    "\n",
    "c.execute(\"\"\"CREATE TABLE genes (id INT,\n",
    "                                 name TEXT,\n",
    "                                 description TEXT,\n",
    "                                 nucleotide_sequence TEXT);\"\"\")"
   ]
  },
  {
   "cell_type": "code",
   "execution_count": 31,
   "metadata": {},
   "outputs": [],
   "source": [
    "tca = ['Escherichia coli[ORGN] EC 2.3.1.12', \n",
    "       'Escherichia coli[ORGN] EC 6.2.1.13', \n",
    "       'Escherichia coli[ORGN] EC 4.1.1.49',\n",
    "       'Escherichia coli[ORGN] EC 1.1.1.27', \n",
    "       'Drosophila[ORGN] EC 2.3.1.12',\n",
    "        'Drosophila[ORGN] EC 6.2.1.13',\n",
    "       'Drosophila[ORGN] EC 4.1.1.49',\n",
    "        'Drosophila[ORGN] EC 1.1.1.27', 'Homo sapiens[ORGN] EC 2.3.1.12',\n",
    "        'Homo sapiens[ORGN] EC 6.2.1.13',\n",
    "    'Homo sapiens[ORGN] EC 4.1.1.49']\n",
    "\n",
    "\n",
    "ids = []\n",
    "\n",
    "for enzyme in tca:\n",
    "    handle = Entrez.esearch(db = 'protein', term = enzyme, sort = 'relevance', idtype = 'acc')\n",
    "    results = Entrez.read(handle)['IdList']\n",
    "    if results:\n",
    "        ids.append(results[0])\n",
    "\n",
    "accessions = []\n",
    "for i in ids:\n",
    "    record = Entrez.efetch(db = 'nucleotide', id = i, rettype = 'gb', retmode = 'text')\n",
    "    seq = SeqIO.read(record,'genbank')\n",
    "    accessions.append(seq.annotations['db_source'])\n",
    "\n",
    "accessionsfinal = []\n",
    "for i in accessions:\n",
    "    i = i.split()\n",
    "    accessionsfinal.append(i[-1])\n",
    "    \n",
    "\n",
    "for accession in accessionsfinal:\n",
    "    record = Entrez.efetch(db = 'nucleotide', id = accession, rettype = 'gb', retmode = 'text')\n",
    "    seq = SeqIO.read(record,'genbank')\n",
    "    c.execute(\"\"\"INSERT INTO genes\n",
    "                         VALUES (?,\n",
    "                                 ?,\n",
    "                                 ?,\n",
    "                                 ?);\"\"\",\n",
    "             (seq.id, seq.name, seq.description, str(seq.seq)))"
   ]
  },
  {
   "cell_type": "code",
   "execution_count": 32,
   "metadata": {},
   "outputs": [
    {
     "data": {
      "text/plain": [
       "<sqlite3.Cursor at 0x18ca9cc7d50>"
      ]
     },
     "execution_count": 32,
     "metadata": {},
     "output_type": "execute_result"
    }
   ],
   "source": [
    "c.execute(\"\"\"CREATE TABLE pathways (name TEXT,\n",
    "                                 description TEXT);\"\"\")\n",
    "\n",
    "c.execute(\"\"\"CREATE TABLE enzymes (name TEXT, function TEXT\n",
    "                                 );\"\"\")\n",
    "\n",
    "c.execute(\"\"\"INSERT INTO pathways (name,\n",
    "                                   description)\n",
    "                                   VALUES ('glycolysis',\n",
    "                                           'Breakdown of glucose by enzymes');\"\"\")\n",
    "c.execute(\"\"\"INSERT INTO pathways (name,\n",
    "                                   description)\n",
    "                                   VALUES ('pentose phosphate pathway',\n",
    "                                           'Generates NADPH and pentoses');\"\"\")\n",
    "c.execute(\"\"\"INSERT INTO pathways (name,\n",
    "                                   description)\n",
    "                                   VALUES ('TCA',\n",
    "                                           'Oxidation of acetyl-CoA');\"\"\")"
   ]
  },
  {
   "cell_type": "code",
   "execution_count": 33,
   "metadata": {},
   "outputs": [],
   "source": [
    "ids = []\n",
    "glycolysis = ['Escherichia coli[ORGN] EC 5.1.3.3', 'Escherichia coli[ORGN] EC 3.2.1.86', 'Escherichia coli[ORGN] EC 5.1.3.15'\n",
    "           , 'Escherichia coli[ORGN] EC 4.1.2.13', 'Drosophila[ORGN] EC 5.1.3.3',\n",
    "           'Drosophila[ORGN] EC 3.2.1.86', 'Drosophila[ORGN] EC 5.1.3.15', \n",
    "           'Drosophila[ORGN] EC 4.1.2.13', 'Homo sapiens[ORGN] EC 5.1.3.3', 'Homo sapiens[ORGN] EC 3.2.1.86',\n",
    "           'Homo sapiens[ORGN] EC 5.1.3.15', 'Homo sapiens[ORGN] EC 4.1.2.13']\n",
    "\n",
    "for enzyme in glycolysis:\n",
    "    handle = Entrez.esearch(db = 'protein', term = enzyme, sort = 'relevance', idtype = 'acc')\n",
    "    results = Entrez.read(handle)['IdList']\n",
    "    if results:\n",
    "        ids.append(results[0])\n",
    "\n",
    "for i in ids:\n",
    "    record = Entrez.efetch(db = 'protein', id = i, rettype = 'gb', retmode = 'text')\n",
    "    seq = SeqIO.read(record,'genbank')\n",
    "    c.execute(\"\"\"INSERT INTO enzymes\n",
    "                         VALUES (?,\n",
    "                                 ?);\"\"\",\n",
    "             (seq.name, seq.description))"
   ]
  },
  {
   "cell_type": "code",
   "execution_count": 34,
   "metadata": {},
   "outputs": [],
   "source": [
    "ids = []\n",
    "pentphos = ['e coli[ORGN] EC 3.1.3.11', 'e coli[ORGN] EC 5.3.1.1', 'e coli[ORGN] EC 3.2.1.86',\n",
    "            'e coli[ORGN] EC 2.7.1.90', 'Drosophila[ORGN] EC 3.1.3.11',\n",
    "            'Drosophila[ORGN] EC 5.3.1.1','Drosophila[ORGN] EC 3.2.1.86',\n",
    "            'Drosophila[ORGN] EC 2.7.1.90', 'Homo sapiens[ORGN] EC 3.1.3.11', 'Homo sapiens[ORGN] EC 5.3.1.1',\n",
    "            'Homo sapiens[ORGN] EC 3.2.1.86',\n",
    "            'Homo sapiens[ORGN] EC 2.7.1.90']\n",
    "\n",
    "for enzyme in pentphos:\n",
    "    handle = Entrez.esearch(db = 'protein', term = enzyme, sort = 'relevance', idtype = 'acc')\n",
    "    results = Entrez.read(handle)['IdList']\n",
    "    if results:\n",
    "        ids.append(results[0])\n",
    "\n",
    "for i in ids:\n",
    "    record = Entrez.efetch(db = 'protein', id = i, rettype = 'gb', retmode = 'text')\n",
    "    seq = SeqIO.read(record,'genbank')\n",
    "    c.execute(\"\"\"INSERT INTO enzymes\n",
    "                         VALUES (?,\n",
    "                                 ?);\"\"\",\n",
    "             (seq.name, seq.description))"
   ]
  },
  {
   "cell_type": "code",
   "execution_count": 35,
   "metadata": {},
   "outputs": [],
   "source": [
    "conn.commit()"
   ]
  }
 ],
 "metadata": {
  "kernelspec": {
   "display_name": "Python 3",
   "language": "python",
   "name": "python3"
  },
  "language_info": {
   "codemirror_mode": {
    "name": "ipython",
    "version": 3
   },
   "file_extension": ".py",
   "mimetype": "text/x-python",
   "name": "python",
   "nbconvert_exporter": "python",
   "pygments_lexer": "ipython3",
   "version": "3.6.5"
  }
 },
 "nbformat": 4,
 "nbformat_minor": 2
}
