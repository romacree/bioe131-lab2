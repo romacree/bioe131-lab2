{
 "cells": [
  {
   "cell_type": "code",
   "execution_count": 22,
   "metadata": {},
   "outputs": [
    {
     "data": {
      "image/png": "[encoded data removed]",
      "text/plain": [
       "<Figure size 1440x720 with 1 Axes>"
      ]
     },
     "metadata": {},
     "output_type": "display_data"
    },
    {
     "ename": "ValueError",
     "evalue": "shape mismatch: value array of shape (3796,) could not be broadcast to indexing result of shape (1,)",
     "output_type": "error",
     "traceback": [
      "\u001b[1;31m---------------------------------------------------------------------------\u001b[0m",
      "\u001b[1;31mValueError\u001b[0m                                Traceback (most recent call last)",
      "\u001b[1;32m<ipython-input-22-c21a80a77c39>\u001b[0m in \u001b[0;36m<module>\u001b[1;34m()\u001b[0m\n\u001b[0;32m     70\u001b[0m \u001b[0mtemp\u001b[0m \u001b[1;33m=\u001b[0m \u001b[0marray\u001b[0m\u001b[1;33m.\u001b[0m\u001b[0margsort\u001b[0m\u001b[1;33m(\u001b[0m\u001b[1;33m)\u001b[0m\u001b[1;33m\u001b[0m\u001b[0m\n\u001b[0;32m     71\u001b[0m \u001b[0mranks\u001b[0m \u001b[1;33m=\u001b[0m \u001b[0mnp\u001b[0m\u001b[1;33m.\u001b[0m\u001b[0mempty_like\u001b[0m\u001b[1;33m(\u001b[0m\u001b[0mtemp\u001b[0m\u001b[1;33m)\u001b[0m\u001b[1;33m\u001b[0m\u001b[0m\n\u001b[1;32m---> 72\u001b[1;33m \u001b[0mranks\u001b[0m\u001b[1;33m[\u001b[0m\u001b[0mtemp\u001b[0m\u001b[1;33m]\u001b[0m \u001b[1;33m=\u001b[0m \u001b[0mnp\u001b[0m\u001b[1;33m.\u001b[0m\u001b[0marange\u001b[0m\u001b[1;33m(\u001b[0m\u001b[0mlen\u001b[0m\u001b[1;33m(\u001b[0m\u001b[0mwordcount\u001b[0m\u001b[1;33m)\u001b[0m\u001b[1;33m)\u001b[0m\u001b[1;33m\u001b[0m\u001b[0m\n\u001b[0m\u001b[0;32m     73\u001b[0m \u001b[1;31m# Bar graph for log(word count) vs. log(word rank).  For more accurate graph, would have to take series of infinite steps and\u001b[0m\u001b[1;33m\u001b[0m\u001b[1;33m\u001b[0m\u001b[0m\n\u001b[0;32m     74\u001b[0m \u001b[1;31m# not use a bar graph\u001b[0m\u001b[1;33m\u001b[0m\u001b[1;33m\u001b[0m\u001b[0m\n",
      "\u001b[1;31mValueError\u001b[0m: shape mismatch: value array of shape (3796,) could not be broadcast to indexing result of shape (1,)"
     ]
    }
   ],
   "source": [
    "import matplotlib.pyplot as plt\n",
    "import numpy as np\n",
    "%matplotlib inline\n",
    "import string\n",
    "import sys\n",
    "import math\n",
    "\n",
    "rj = open('romeoandjuliet (1).txt','r')\n",
    "\n",
    "uniquewords = []\n",
    "uniquewordcount = []\n",
    "wordcount={}\n",
    "count=[]\n",
    "\n",
    "# Read rj into a list defined by every word and convert to all lowercase \n",
    "rjwords = rj.read().split()\n",
    "rjwords = [word.lower() for word in rjwords]\n",
    "# Take out all punctuation (i.e. ',' '.' etc.)\n",
    "rjwords = [word.strip(string.punctuation) for word in rjwords]\n",
    "\n",
    "# Dictionary of every word and its frequency\n",
    "for word in rjwords:\n",
    "    if word in wordcount:\n",
    "        wordcount[word] += 1\n",
    "    else:\n",
    "        wordcount[word] = 1     \n",
    "# List of words in descending order of frequency\n",
    "wordcountsorted = sorted(wordcount, key = wordcount.get, reverse=True)\n",
    "\n",
    "\n",
    "### attempted to make a bar graph with every unique word (3796 words) and their frequency, but it was too large\n",
    "### for human readability, so I will instead rank the top 25 words, present that bar graph, and then try the bonus\n",
    "### question which asks for the log graph\n",
    "\n",
    "# List of top 25 words\n",
    "topwords = []\n",
    "i = 0\n",
    "while i <= 24:\n",
    "    topwords.append(wordcountsorted[i])\n",
    "    i+=1\n",
    "    \n",
    "# List of frequency of top 25 words\n",
    "topwordscount = []\n",
    "for word in topwords:\n",
    "    topwordscount.append(wordcount[word])\n",
    "\n",
    "# Bar graph for occurence of top 25 words in Romeo and Juliet\n",
    "width = .35\n",
    "N1 = len(topwords)\n",
    "ind1 = np.arange(N1)\n",
    "x1data = topwords\n",
    "y1data = topwordscount\n",
    "\n",
    "plt.figure(figsize=(20, 10))  \n",
    "plt.bar(x1data, y1data, width)\n",
    "plt.xlabel('Word')\n",
    "plt.ylabel('Frequency')\n",
    "plt.title('Occurence of top 25 words in Romeo and Juliet')\n",
    "\n",
    "plt.show()\n",
    "\n",
    "\n",
    "### For log(word count) vs. log(word rank) bar graph ###\n",
    "\n",
    "# List of base 10 log of word counts for first three log positions in wordcountsorted\n",
    "# wordcountsorted only has order of magnitude 3 total words\n",
    "logallwordscount = []\n",
    "\n",
    "array = np.array(wordcount)\n",
    "temp = array.argsort()\n",
    "ranks = np.empty_like(temp)\n",
    "ranks[temp] = np.arange(len(wordcount))\n",
    "# Bar graph for log(word count) vs. log(word rank).  For more accurate graph, would have to take series of infinite steps and \n",
    "# not use a bar graph \n",
    "N2 = len(logallwordscount)\n",
    "ind2 = np.arange(N2)\n",
    "x2data = math.Log10()\n",
    "y2data=math.Log10(ranks)\n",
    "\n",
    "\n",
    "plt.bar(x2data, y2data, width)\n",
    "plt.xlabel('Log(word rank)')\n",
    "plt.ylabel('Log(word count)')\n",
    "plt.title('Log(word count) vs. Log(word rank)')\n",
    "\n",
    "plt.show()\n",
    "                                  \n",
    "                                  \n"
   ]
  },
  {
   "cell_type": "code",
   "execution_count": 18,
   "metadata": {},
   "outputs": [
    {
     "name": "stdout",
     "output_type": "stream",
     "text": [
      "['tragedy', 'william', 'shakespeare', 'dramatis', 'personae', 'family', 'pages', 'guards', 'watchmen', 'scene.--verona', 'dignity', 'grudge', 'unclean', 'loins', 'foes', \"star-cross'd\", \"misadventur'd\", 'overthrows', 'passage', \"death-mark'd\", 'continuance', \"children's\", 'traffic', 'strive', 'bucklers']\n"
     ]
    }
   ],
   "source": [
    "import matplotlib.pyplot as plt\n",
    "import numpy as np\n",
    "%matplotlib inline\n",
    "import string\n",
    "import sys\n",
    "import math\n",
    "\n",
    "rj = open('romeoandjuliet (1).txt','r')\n",
    "\n",
    "uniquewords = []\n",
    "uniquewordcount = []\n",
    "wordcount={}\n",
    "count=[]\n",
    "\n",
    "# Read rj into a list defined by every word and convert to all lowercase \n",
    "rjwords = rj.read().split()\n",
    "rjwords = [word.lower() for word in rjwords]\n",
    "# Take out all punctuation (i.e. ',' '.' etc.)\n",
    "rjwords = [word.strip(string.punctuation) for word in rjwords]\n",
    "\n",
    "# Dictionary of every word and its frequency\n",
    "for word in rjwords:\n",
    "    if word in wordcount:\n",
    "        wordcount[word] += 1\n",
    "    else:\n",
    "        wordcount[word] = 1     \n",
    "# List of words in ascending order of frequency\n",
    "wordcountsorted = sorted(wordcount, key = wordcount.get, reverse=False)\n",
    "\n",
    "topwords = []\n",
    "i = 0\n",
    "while i <= 24:\n",
    "    topwords.append(wordcountsorted[i])\n",
    "    i+=1\n",
    "    \n",
    "# List of frequency of least frequent 25 words\n",
    "topwordscount = []\n",
    "for word in topwords:\n",
    "    topwordscount.append(wordcount[word])\n",
    "print (topwords)\n"
   ]
  },
  {
   "cell_type": "code",
   "execution_count": null,
   "metadata": {},
   "outputs": [],
   "source": []
  }
 ],
 "metadata": {
  "kernelspec": {
   "display_name": "Python 3",
   "language": "python",
   "name": "python3"
  },
  "language_info": {
   "codemirror_mode": {
    "name": "ipython",
    "version": 3
   },
   "file_extension": ".py",
   "mimetype": "text/x-python",
   "name": "python",
   "nbconvert_exporter": "python",
   "pygments_lexer": "ipython3",
   "version": "3.6.5"
  }
 },
 "nbformat": 4,
 "nbformat_minor": 2
}
