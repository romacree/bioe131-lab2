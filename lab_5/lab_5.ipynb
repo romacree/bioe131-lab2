{
 "cells": [
  {
   "cell_type": "code",
   "execution_count": 22,
   "metadata": {},
   "outputs": [
    {
     "name": "stdout",
     "output_type": "stream",
     "text": [
      "Riboswitch   OBS1    OBS2    RedI   RedII \n",
      "---------- ------- ------- ------- -------\n",
      "     YES-1 (26,47) ------- (16,21) (49,54)\n",
      "     NOT-1 (44,66) ------- (40,43) (74,77)\n",
      "     AND-1 (30,45) (49,64) (16,23) (70,77)\n",
      "      OR-1 (27,46) (47,66) (16,26) (67,77)\n"
     ]
    }
   ],
   "source": [
    "from astropy.table import Table, Column \n",
    "import numpy as np \n",
    "rswitch = np.array(['YES-1', 'NOT-1', 'AND-1', 'OR-1'])\n",
    "# (start, stop) positions at codon \n",
    "O1 = ('(26,47)','(44,66)', '(30,45)', '(27,46)')\n",
    "O2 = ('-------', '-------', '(49,64)', '(47,66)')\n",
    "R1 = ('(16,21)', '(40,43)', '(16,23)', '(16,26)')\n",
    "R2 = ('(49,54)', '(74,77)', '(70,77)', '(67,77)')\n",
    "t = Table((rswitch, O1, O2, R1, R2), names = ('Riboswitch', 'OBS1', 'OBS2', 'RedI', 'RedII'))\n",
    "print (t)\n"
   ]
  },
  {
   "cell_type": "markdown",
   "metadata": {},
   "source": [
    "## Generating Plots\n",
    "* Since RNAplot is redundant (RNAfold generates a plot device), we simply inputted the sequences into RNAfold subprocess. This returns(stdout) a file whose name is the variable and extension is .ps.\n",
    "\n",
    "* .ps files can't be viewed literally so once these .ps files are created and stored in /Users/nrnatesh/bioe131 directory, I ran a ghostscript command on terminal to generage .png versions of these .ps RNAfold files. * The command in terminal is as follows: \"gs -o DESIRED_OUTPUT_FILE_NAME.png -sDEVICE=pngalpha /Users/nrnatesh/bioe131/VARIABLE_NAME_ss.ps\"**\n"
   ]
  },
  {
   "cell_type": "code",
   "execution_count": 1,
   "metadata": {},
   "outputs": [
    {
     "ename": "FileNotFoundError",
     "evalue": "[WinError 2] The system cannot find the file specified",
     "output_type": "error",
     "traceback": [
      "\u001b[1;31m---------------------------------------------------------------------------\u001b[0m",
      "\u001b[1;31mFileNotFoundError\u001b[0m                         Traceback (most recent call last)",
      "\u001b[1;32m<ipython-input-1-64604412cdc3>\u001b[0m in \u001b[0;36m<module>\u001b[1;34m()\u001b[0m\n\u001b[0;32m     20\u001b[0m                         stderr=subprocess.PIPE)\n\u001b[0;32m     21\u001b[0m \u001b[1;33m\u001b[0m\u001b[0m\n\u001b[1;32m---> 22\u001b[1;33m \u001b[0mrnafold\u001b[0m\u001b[1;33m(\u001b[0m\u001b[0myes1\u001b[0m\u001b[1;33m)\u001b[0m\u001b[1;33m\u001b[0m\u001b[0m\n\u001b[0m\u001b[0;32m     23\u001b[0m \u001b[0mrnafold\u001b[0m\u001b[1;33m(\u001b[0m\u001b[0mnot1\u001b[0m\u001b[1;33m)\u001b[0m\u001b[1;33m\u001b[0m\u001b[0m\n\u001b[0;32m     24\u001b[0m \u001b[0mrnafold\u001b[0m\u001b[1;33m(\u001b[0m\u001b[0mand1\u001b[0m\u001b[1;33m)\u001b[0m\u001b[1;33m\u001b[0m\u001b[0m\n",
      "\u001b[1;32m<ipython-input-1-64604412cdc3>\u001b[0m in \u001b[0;36mrnafold\u001b[1;34m(rnaseq)\u001b[0m\n\u001b[0;32m     18\u001b[0m                         \u001b[0minput\u001b[0m \u001b[1;33m=\u001b[0m \u001b[0mbytes\u001b[0m\u001b[1;33m(\u001b[0m\u001b[0mrnaseq\u001b[0m\u001b[1;33m,\u001b[0m\u001b[1;34m'ascii'\u001b[0m\u001b[1;33m)\u001b[0m\u001b[1;33m,\u001b[0m\u001b[1;33m\u001b[0m\u001b[0m\n\u001b[0;32m     19\u001b[0m                         \u001b[0mstdout\u001b[0m\u001b[1;33m=\u001b[0m\u001b[0msubprocess\u001b[0m\u001b[1;33m.\u001b[0m\u001b[0mPIPE\u001b[0m\u001b[1;33m,\u001b[0m\u001b[1;33m\u001b[0m\u001b[0m\n\u001b[1;32m---> 20\u001b[1;33m                         stderr=subprocess.PIPE)\n\u001b[0m\u001b[0;32m     21\u001b[0m \u001b[1;33m\u001b[0m\u001b[0m\n\u001b[0;32m     22\u001b[0m \u001b[0mrnafold\u001b[0m\u001b[1;33m(\u001b[0m\u001b[0myes1\u001b[0m\u001b[1;33m)\u001b[0m\u001b[1;33m\u001b[0m\u001b[0m\n",
      "\u001b[1;32m~\\Anaconda3\\lib\\subprocess.py\u001b[0m in \u001b[0;36mrun\u001b[1;34m(input, timeout, check, *popenargs, **kwargs)\u001b[0m\n\u001b[0;32m    401\u001b[0m         \u001b[0mkwargs\u001b[0m\u001b[1;33m[\u001b[0m\u001b[1;34m'stdin'\u001b[0m\u001b[1;33m]\u001b[0m \u001b[1;33m=\u001b[0m \u001b[0mPIPE\u001b[0m\u001b[1;33m\u001b[0m\u001b[0m\n\u001b[0;32m    402\u001b[0m \u001b[1;33m\u001b[0m\u001b[0m\n\u001b[1;32m--> 403\u001b[1;33m     \u001b[1;32mwith\u001b[0m \u001b[0mPopen\u001b[0m\u001b[1;33m(\u001b[0m\u001b[1;33m*\u001b[0m\u001b[0mpopenargs\u001b[0m\u001b[1;33m,\u001b[0m \u001b[1;33m**\u001b[0m\u001b[0mkwargs\u001b[0m\u001b[1;33m)\u001b[0m \u001b[1;32mas\u001b[0m \u001b[0mprocess\u001b[0m\u001b[1;33m:\u001b[0m\u001b[1;33m\u001b[0m\u001b[0m\n\u001b[0m\u001b[0;32m    404\u001b[0m         \u001b[1;32mtry\u001b[0m\u001b[1;33m:\u001b[0m\u001b[1;33m\u001b[0m\u001b[0m\n\u001b[0;32m    405\u001b[0m             \u001b[0mstdout\u001b[0m\u001b[1;33m,\u001b[0m \u001b[0mstderr\u001b[0m \u001b[1;33m=\u001b[0m \u001b[0mprocess\u001b[0m\u001b[1;33m.\u001b[0m\u001b[0mcommunicate\u001b[0m\u001b[1;33m(\u001b[0m\u001b[0minput\u001b[0m\u001b[1;33m,\u001b[0m \u001b[0mtimeout\u001b[0m\u001b[1;33m=\u001b[0m\u001b[0mtimeout\u001b[0m\u001b[1;33m)\u001b[0m\u001b[1;33m\u001b[0m\u001b[0m\n",
      "\u001b[1;32m~\\Anaconda3\\lib\\subprocess.py\u001b[0m in \u001b[0;36m__init__\u001b[1;34m(self, args, bufsize, executable, stdin, stdout, stderr, preexec_fn, close_fds, shell, cwd, env, universal_newlines, startupinfo, creationflags, restore_signals, start_new_session, pass_fds, encoding, errors)\u001b[0m\n\u001b[0;32m    707\u001b[0m                                 \u001b[0mc2pread\u001b[0m\u001b[1;33m,\u001b[0m \u001b[0mc2pwrite\u001b[0m\u001b[1;33m,\u001b[0m\u001b[1;33m\u001b[0m\u001b[0m\n\u001b[0;32m    708\u001b[0m                                 \u001b[0merrread\u001b[0m\u001b[1;33m,\u001b[0m \u001b[0merrwrite\u001b[0m\u001b[1;33m,\u001b[0m\u001b[1;33m\u001b[0m\u001b[0m\n\u001b[1;32m--> 709\u001b[1;33m                                 restore_signals, start_new_session)\n\u001b[0m\u001b[0;32m    710\u001b[0m         \u001b[1;32mexcept\u001b[0m\u001b[1;33m:\u001b[0m\u001b[1;33m\u001b[0m\u001b[0m\n\u001b[0;32m    711\u001b[0m             \u001b[1;31m# Cleanup if the child failed starting.\u001b[0m\u001b[1;33m\u001b[0m\u001b[1;33m\u001b[0m\u001b[0m\n",
      "\u001b[1;32m~\\Anaconda3\\lib\\subprocess.py\u001b[0m in \u001b[0;36m_execute_child\u001b[1;34m(self, args, executable, preexec_fn, close_fds, pass_fds, cwd, env, startupinfo, creationflags, shell, p2cread, p2cwrite, c2pread, c2pwrite, errread, errwrite, unused_restore_signals, unused_start_new_session)\u001b[0m\n\u001b[0;32m    995\u001b[0m                                          \u001b[0menv\u001b[0m\u001b[1;33m,\u001b[0m\u001b[1;33m\u001b[0m\u001b[0m\n\u001b[0;32m    996\u001b[0m                                          \u001b[0mos\u001b[0m\u001b[1;33m.\u001b[0m\u001b[0mfspath\u001b[0m\u001b[1;33m(\u001b[0m\u001b[0mcwd\u001b[0m\u001b[1;33m)\u001b[0m \u001b[1;32mif\u001b[0m \u001b[0mcwd\u001b[0m \u001b[1;32mis\u001b[0m \u001b[1;32mnot\u001b[0m \u001b[1;32mNone\u001b[0m \u001b[1;32melse\u001b[0m \u001b[1;32mNone\u001b[0m\u001b[1;33m,\u001b[0m\u001b[1;33m\u001b[0m\u001b[0m\n\u001b[1;32m--> 997\u001b[1;33m                                          startupinfo)\n\u001b[0m\u001b[0;32m    998\u001b[0m             \u001b[1;32mfinally\u001b[0m\u001b[1;33m:\u001b[0m\u001b[1;33m\u001b[0m\u001b[0m\n\u001b[0;32m    999\u001b[0m                 \u001b[1;31m# Child is launched. Close the parent's copy of those pipe\u001b[0m\u001b[1;33m\u001b[0m\u001b[1;33m\u001b[0m\u001b[0m\n",
      "\u001b[1;31mFileNotFoundError\u001b[0m: [WinError 2] The system cannot find the file specified"
     ]
    }
   ],
   "source": [
    "import subprocess\n",
    "from Bio import SeqIO\n",
    "\n",
    "yes1 = \\\n",
    "\"\"\">yes1\n",
    "GGGCGACCCUGAUGAGCUUGAGUUUAGCUCGUCACUGUCCAGGUUCAAUCAGGCGAAACGGUGAAAGCCGUAGGUUGCCC\"\"\" \n",
    "\n",
    "not1 = \\\n",
    "\"\"\">not1\n",
    "GGCAGGUACAUACAGCUGAUGAGUCCCAAAUAGGACGAAACGCGACACACACCACUAAACCGUGCAGUGUUUUGCGUCCUGUAUUCCACUGC\"\"\"\n",
    "\n",
    "and1 = \\\n",
    "\"\"\">and1\n",
    "GGGCGACCCUGAUGAGCUUGGUUUAGUAUUUACAGCUCCAUACAUGAGGUGUUAUCCCUAUGCAAGUUCGAUCAGGCGAAACGGUGAAAGCCGUAGGUUGCCCAGAGACAAU\"\"\"\n",
    "\n",
    "or1 = \\\n",
    "\"\"\">or1\n",
    "GGGCGACCCUGAUGAGCUUGGUUGAGUAUUUACAGCUCCAUACAUGAGGUGUUCUCCCUACGCAAGUUCGAUCAGGCGAAACGGUGAAAGCCGUAGGUUGCCC\"\"\"\n",
    "\n",
    "def rnafold(rnaseq):\n",
    "    p = subprocess.run(['RNAfold'],\n",
    "                        input = bytes(rnaseq,'ascii'),\n",
    "                        stdout=subprocess.PIPE,\n",
    "                        stderr=subprocess.PIPE)\n",
    "    \n",
    "rnafold(yes1)\n",
    "rnafold(not1)\n",
    "rnafold(and1)\n",
    "rnafold(or1)"
   ]
  },
  {
   "cell_type": "markdown",
   "metadata": {},
   "source": [
    "## Yes-1 native RNAfold structure\n",
    "\n",
    "\n",
    "Can see that compared to the paper's native conformer, there is a much larger second loop which prevents a wobble base pair in this structure. The red regions have not bound each other as well.\n",
    "\n",
    "## Not-1 native RNAfold structure\n",
    "\n",
    "\n",
    "RNAfold's native structure is much more similar to the paper's for Not-1. The red regions are bound to each other, although additional loops are present in RNAfold's structure\n",
    "\n",
    "## And-1 native RNAfold structure\n",
    "\n",
    "\n",
    "RNAfold's native structure is the same as the paper's native structure. The red regions are not bound to each other.\n",
    "\n",
    "## OR-1 native RNAfold structure\n",
    "\n",
    "\n",
    "RNAfold's native structure is the same as the paper's native structure. The red regions are not bound to each other."
   ]
  },
  {
   "cell_type": "code",
   "execution_count": 8,
   "metadata": {},
   "outputs": [
    {
     "name": "stdout",
     "output_type": "stream",
     "text": [
      "['G', 'G', 'C', 'A', 'G', 'G', 'U', 'A', 'C', 'A', 'U', 'A', 'C', 'A', 'G', 'C', 'U', 'G', 'A', 'U', 'G', 'A', 'G', 'U', 'C', 'C', 'C', 'A', 'A', 'A', 'U', 'A', 'G', 'G', 'A', 'C', 'G', 'A', 'A', 'A', 'C', 'G', 'C', 'G', 'A', 'C', 'A', 'C', 'A', 'C', 'A', 'C', 'C', 'A', 'C', 'U', 'A', 'A', 'A', 'C', 'C', 'G', 'U', 'G', 'C', 'A', 'G', 'U', 'G', 'U', 'U', 'U', 'U', 'G', 'C', 'G', 'U', 'C', 'C', 'U', 'G', 'U', 'A', 'U', 'U', 'C', 'C', 'A', 'C', 'U', 'G', 'C', '.', '.', '.', '.', '.', '.', '.', '.', '.', '.', '.', '.', '.', '.', '.', '.', '.', '.', '.', '.', '.', '.', '.', '.', '.', '.', '.', '.', '.', '.', '.', '.', '.', '.', '.', '.', '.', '.', '.', '.', '.', '.', '.', 'x', 'x', 'x', 'x', 'x', 'x', 'x', 'x', 'x', 'x', 'x', 'x', 'x', 'x', 'x', 'x', 'x', 'x', 'x', 'x', 'x', 'x', 'x', '.', '.', '.', '.', '.', '.', '.', '.', '.', '.', '.', '.', '.', '.', '.', '.', '.', '.', '.', '.', '.', '.', '.', '.', '.', '.']\n",
      "184\n",
      "['G', 'G', 'G', 'C', 'G', 'A', 'C', 'C', 'C', 'U', 'G', 'A', 'U', 'G', 'A', 'G', 'C', 'U', 'U', 'G', 'A', 'G', 'U', 'U', 'U', 'A', 'G', 'C', 'U', 'C', 'G', 'U', 'C', 'A', 'C', 'U', 'G', 'U', 'C', 'C', 'A', 'G', 'G', 'U', 'U', 'C', 'A', 'A', 'U', 'C', 'A', 'G', 'G', 'C', 'G', 'A', 'A', 'A', 'C', 'G', 'G', 'U', 'G', 'A', 'A', 'A', 'G', 'C', 'C', 'G', 'U', 'A', 'G', 'G', 'U', 'U', 'G', 'C', 'C', 'C', '.', '.', '.', '.', '.', '.', '.', '.', '.', '.', '.', '.', '.', '.', '.', '.', '.', '.', '.', '.', '.', '.', '.', '.', '.', 'x', 'x', 'x', 'x', 'x', 'x', 'x', 'x', 'x', 'x', 'x', 'x', 'x', 'x', 'x', 'x', 'x', 'x', 'x', 'x', 'x', 'x', '.', '.', '.', '.', '.', '.', '.', '.', '.', '.', '.', '.', '.', '.', '.', '.', '.', '.', '.', '.', '.', '.', '.', '.', '.', '.', '.', '.', '.', '.', '.', '.', '.'] 160\n"
     ]
    }
   ],
   "source": [
    "from Bio import SeqIO\n",
    "\n",
    "#yes-1\n",
    "yes1final = list(\"GGGCGACCCUGAUGAGCUUGAGUUUAGCUCGUCACUGUCCAGGUUCAAUCAGGCGAAACGGUGAAAGCCGUAGGUUGCCC\")\n",
    "yes1 = list(\"GGGCGACCCUGAUGAGCUUGAGUUUAGCUCGUCACUGUCCAGGUUCAAUCAGGCGAAACGGUGAAAGCCGUAGGUUGCCC\")\n",
    "\n",
    "for i in range(25,47):\n",
    "    yes1[i] = \"x\"\n",
    "for i in range(0,80):\n",
    "    if yes1[i] != \"x\":\n",
    "        yes1[i] = \".\"\n",
    "\n",
    "\n",
    "for i in yes1:\n",
    "    yes1final.append(i)\n",
    "\n",
    "yes1constraints = open(\"yes1constraints.txt\", \"w\")\n",
    "for i in yes1final:\n",
    "    yes1constraints.write(i)\n",
    "yes1constraints.close()\n",
    "\n",
    "\n",
    "\n",
    "#not-1\n",
    "not1 = list(\"GGCAGGUACAUACAGCUGAUGAGUCCCAAAUAGGACGAAACGCGACACACACCACUAAACCGUGCAGUGUUUUGCGUCCUGUAUUCCACUGC\")\n",
    "not1final = list(\"GGCAGGUACAUACAGCUGAUGAGUCCCAAAUAGGACGAAACGCGACACACACCACUAAACCGUGCAGUGUUUUGCGUCCUGUAUUCCACUGC\")\n",
    "\n",
    "for i in range(43,66):\n",
    "    not1[i] = \"x\"\n",
    "for i in range(0,92):\n",
    "    if not1[i] != \"x\":\n",
    "        not1[i] = \".\"\n",
    "        \n",
    "for i in not1:\n",
    "    not1final.append(i)\n",
    "print(not1final)\n",
    "print(len(not1final))\n",
    "print(yes1final, len(yes1final))\n",
    "not1constraints = open(\"not1constraints.txt\", \"w\")\n",
    "for i in not1final:\n",
    "    not1constraints.write(i)\n",
    "not1constraints.close()"
   ]
  },
  {
   "cell_type": "code",
   "execution_count": null,
   "metadata": {},
   "outputs": [],
   "source": []
  }
 ],
 "metadata": {
  "kernelspec": {
   "display_name": "Python 3",
   "language": "python",
   "name": "python3"
  },
  "language_info": {
   "codemirror_mode": {
    "name": "ipython",
    "version": 3
   },
   "file_extension": ".py",
   "mimetype": "text/x-python",
   "name": "python",
   "nbconvert_exporter": "python",
   "pygments_lexer": "ipython3",
   "version": "3.6.5"
  }
 },
 "nbformat": 4,
 "nbformat_minor": 2
}
